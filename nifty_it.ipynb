{
 "cells": [
  {
   "cell_type": "code",
   "execution_count": 2,
   "metadata": {},
   "outputs": [],
   "source": [
    "import numpy as np\n",
    "import pandas as pd\n",
    "import yfinance as yf\n",
    "from sklearn.preprocessing import MinMaxScaler\n",
    "from sklearn.model_selection import train_test_split\n",
    "from tensorflow.keras.models import Sequential\n",
    "from tensorflow.keras.layers import LSTM, Dense, Dropout\n",
    "from tensorflow.keras.optimizers import Adam\n",
    "import keras_tuner as kt\n",
    "from tensorflow.keras.callbacks import EarlyStopping\n",
    "import matplotlib.pyplot as plt\n",
    "from sklearn.metrics import mean_squared_error\n"
   ]
  },
  {
   "cell_type": "markdown",
   "metadata": {},
   "source": [
    "##### 1. Data Acquisition:"
   ]
  },
  {
   "cell_type": "code",
   "execution_count": 16,
   "metadata": {},
   "outputs": [
    {
     "name": "stdout",
     "output_type": "stream",
     "text": [
      "[*********************100%%**********************]  1 of 1 completed\n"
     ]
    },
    {
     "name": "stderr",
     "output_type": "stream",
     "text": [
      "c:\\ProgramData\\anaconda3\\envs\\deeptrend\\Lib\\site-packages\\yfinance\\utils.py:788: FutureWarning: The 'unit' keyword in TimedeltaIndex construction is deprecated and will be removed in a future version. Use pd.to_timedelta instead.\n",
      "  df.index += _pd.TimedeltaIndex(dst_error_hours, 'h')\n",
      "C:\\Users\\Krunal Shambharkar\\AppData\\Local\\Temp\\ipykernel_14368\\322929786.py:3: FutureWarning: DataFrame.fillna with 'method' is deprecated and will raise in a future version. Use obj.ffill() or obj.bfill() instead.\n",
      "  nifty_it = nifty_it[['Close']].fillna(method='ffill')\n"
     ]
    },
    {
     "data": {
      "text/html": [
       "<div>\n",
       "<style scoped>\n",
       "    .dataframe tbody tr th:only-of-type {\n",
       "        vertical-align: middle;\n",
       "    }\n",
       "\n",
       "    .dataframe tbody tr th {\n",
       "        vertical-align: top;\n",
       "    }\n",
       "\n",
       "    .dataframe thead th {\n",
       "        text-align: right;\n",
       "    }\n",
       "</style>\n",
       "<table border=\"1\" class=\"dataframe\">\n",
       "  <thead>\n",
       "    <tr style=\"text-align: right;\">\n",
       "      <th></th>\n",
       "      <th>Close</th>\n",
       "    </tr>\n",
       "    <tr>\n",
       "      <th>Date</th>\n",
       "      <th></th>\n",
       "    </tr>\n",
       "  </thead>\n",
       "  <tbody>\n",
       "    <tr>\n",
       "      <th>2024-10-24</th>\n",
       "      <td>42139.851562</td>\n",
       "    </tr>\n",
       "    <tr>\n",
       "      <th>2024-10-25</th>\n",
       "      <td>42038.851562</td>\n",
       "    </tr>\n",
       "    <tr>\n",
       "      <th>2024-10-28</th>\n",
       "      <td>42205.398438</td>\n",
       "    </tr>\n",
       "    <tr>\n",
       "      <th>2024-10-29</th>\n",
       "      <td>42031.449219</td>\n",
       "    </tr>\n",
       "    <tr>\n",
       "      <th>2024-10-30</th>\n",
       "      <td>41668.601562</td>\n",
       "    </tr>\n",
       "  </tbody>\n",
       "</table>\n",
       "</div>"
      ],
      "text/plain": [
       "                   Close\n",
       "Date                    \n",
       "2024-10-24  42139.851562\n",
       "2024-10-25  42038.851562\n",
       "2024-10-28  42205.398438\n",
       "2024-10-29  42031.449219\n",
       "2024-10-30  41668.601562"
      ]
     },
     "execution_count": 16,
     "metadata": {},
     "output_type": "execute_result"
    }
   ],
   "source": [
    "# Download historical data for Nifty IT Index\n",
    "nifty_it = yf.download('^CNXIT', start='2010-01-01', end='2024-10-31', interval='1d')\n",
    "nifty_it = nifty_it[['Close']].fillna(method='ffill')\n",
    "\n",
    "nifty_it.tail()\n"
   ]
  },
  {
   "cell_type": "markdown",
   "metadata": {},
   "source": [
    "##### 2. Feturing Engineering"
   ]
  },
  {
   "cell_type": "code",
   "execution_count": 17,
   "metadata": {},
   "outputs": [
    {
     "data": {
      "text/html": [
       "<div>\n",
       "<style scoped>\n",
       "    .dataframe tbody tr th:only-of-type {\n",
       "        vertical-align: middle;\n",
       "    }\n",
       "\n",
       "    .dataframe tbody tr th {\n",
       "        vertical-align: top;\n",
       "    }\n",
       "\n",
       "    .dataframe thead th {\n",
       "        text-align: right;\n",
       "    }\n",
       "</style>\n",
       "<table border=\"1\" class=\"dataframe\">\n",
       "  <thead>\n",
       "    <tr style=\"text-align: right;\">\n",
       "      <th></th>\n",
       "      <th>Close</th>\n",
       "      <th>MA_5</th>\n",
       "      <th>MA_20</th>\n",
       "      <th>Returns</th>\n",
       "    </tr>\n",
       "    <tr>\n",
       "      <th>Date</th>\n",
       "      <th></th>\n",
       "      <th></th>\n",
       "      <th></th>\n",
       "      <th></th>\n",
       "    </tr>\n",
       "  </thead>\n",
       "  <tbody>\n",
       "    <tr>\n",
       "      <th>2024-10-24</th>\n",
       "      <td>42139.851562</td>\n",
       "      <td>41853.990625</td>\n",
       "      <td>42199.698047</td>\n",
       "      <td>-0.001948</td>\n",
       "    </tr>\n",
       "    <tr>\n",
       "      <th>2024-10-25</th>\n",
       "      <td>42038.851562</td>\n",
       "      <td>41840.460938</td>\n",
       "      <td>42193.595703</td>\n",
       "      <td>-0.002397</td>\n",
       "    </tr>\n",
       "    <tr>\n",
       "      <th>2024-10-28</th>\n",
       "      <td>42205.398438</td>\n",
       "      <td>41969.000781</td>\n",
       "      <td>42188.235547</td>\n",
       "      <td>0.003962</td>\n",
       "    </tr>\n",
       "    <tr>\n",
       "      <th>2024-10-29</th>\n",
       "      <td>42031.449219</td>\n",
       "      <td>42127.530469</td>\n",
       "      <td>42192.502930</td>\n",
       "      <td>-0.004121</td>\n",
       "    </tr>\n",
       "    <tr>\n",
       "      <th>2024-10-30</th>\n",
       "      <td>41668.601562</td>\n",
       "      <td>42016.830469</td>\n",
       "      <td>42154.192969</td>\n",
       "      <td>-0.008633</td>\n",
       "    </tr>\n",
       "  </tbody>\n",
       "</table>\n",
       "</div>"
      ],
      "text/plain": [
       "                   Close          MA_5         MA_20   Returns\n",
       "Date                                                          \n",
       "2024-10-24  42139.851562  41853.990625  42199.698047 -0.001948\n",
       "2024-10-25  42038.851562  41840.460938  42193.595703 -0.002397\n",
       "2024-10-28  42205.398438  41969.000781  42188.235547  0.003962\n",
       "2024-10-29  42031.449219  42127.530469  42192.502930 -0.004121\n",
       "2024-10-30  41668.601562  42016.830469  42154.192969 -0.008633"
      ]
     },
     "execution_count": 17,
     "metadata": {},
     "output_type": "execute_result"
    }
   ],
   "source": [
    "# 2. Data Preprocessing\n",
    "# Calculate moving averages as features\n",
    "nifty_it['MA_5'] = nifty_it['Close'].rolling(window=5).mean()\n",
    "nifty_it['MA_20'] = nifty_it['Close'].rolling(window=20).mean()\n",
    "nifty_it['Returns'] = nifty_it['Close'].pct_change()\n",
    "nifty_it.dropna(inplace=True)\n",
    "nifty_it.tail()\n"
   ]
  },
  {
   "cell_type": "code",
   "execution_count": 18,
   "metadata": {},
   "outputs": [
    {
     "data": {
      "text/html": [
       "<div>\n",
       "<style scoped>\n",
       "    .dataframe tbody tr th:only-of-type {\n",
       "        vertical-align: middle;\n",
       "    }\n",
       "\n",
       "    .dataframe tbody tr th {\n",
       "        vertical-align: top;\n",
       "    }\n",
       "\n",
       "    .dataframe thead th {\n",
       "        text-align: right;\n",
       "    }\n",
       "</style>\n",
       "<table border=\"1\" class=\"dataframe\">\n",
       "  <thead>\n",
       "    <tr style=\"text-align: right;\">\n",
       "      <th></th>\n",
       "      <th>Close</th>\n",
       "      <th>MA_5</th>\n",
       "      <th>MA_20</th>\n",
       "      <th>Returns</th>\n",
       "    </tr>\n",
       "    <tr>\n",
       "      <th>Date</th>\n",
       "      <th></th>\n",
       "      <th></th>\n",
       "      <th></th>\n",
       "      <th></th>\n",
       "    </tr>\n",
       "  </thead>\n",
       "  <tbody>\n",
       "    <tr>\n",
       "      <th>2024-10-24</th>\n",
       "      <td>42139.851562</td>\n",
       "      <td>41853.990625</td>\n",
       "      <td>42199.698047</td>\n",
       "      <td>-0.001948</td>\n",
       "    </tr>\n",
       "    <tr>\n",
       "      <th>2024-10-25</th>\n",
       "      <td>42038.851562</td>\n",
       "      <td>41840.460938</td>\n",
       "      <td>42193.595703</td>\n",
       "      <td>-0.002397</td>\n",
       "    </tr>\n",
       "    <tr>\n",
       "      <th>2024-10-28</th>\n",
       "      <td>42205.398438</td>\n",
       "      <td>41969.000781</td>\n",
       "      <td>42188.235547</td>\n",
       "      <td>0.003962</td>\n",
       "    </tr>\n",
       "    <tr>\n",
       "      <th>2024-10-29</th>\n",
       "      <td>42031.449219</td>\n",
       "      <td>42127.530469</td>\n",
       "      <td>42192.502930</td>\n",
       "      <td>-0.004121</td>\n",
       "    </tr>\n",
       "    <tr>\n",
       "      <th>2024-10-30</th>\n",
       "      <td>41668.601562</td>\n",
       "      <td>42016.830469</td>\n",
       "      <td>42154.192969</td>\n",
       "      <td>-0.008633</td>\n",
       "    </tr>\n",
       "  </tbody>\n",
       "</table>\n",
       "</div>"
      ],
      "text/plain": [
       "                   Close          MA_5         MA_20   Returns\n",
       "Date                                                          \n",
       "2024-10-24  42139.851562  41853.990625  42199.698047 -0.001948\n",
       "2024-10-25  42038.851562  41840.460938  42193.595703 -0.002397\n",
       "2024-10-28  42205.398438  41969.000781  42188.235547  0.003962\n",
       "2024-10-29  42031.449219  42127.530469  42192.502930 -0.004121\n",
       "2024-10-30  41668.601562  42016.830469  42154.192969 -0.008633"
      ]
     },
     "execution_count": 18,
     "metadata": {},
     "output_type": "execute_result"
    }
   ],
   "source": [
    "# Scaling the data\n",
    "scaler = MinMaxScaler()\n",
    "scaled_data = scaler.fit_transform(nifty_it)\n",
    "seq_length = 60\n",
    "\n",
    "nifty_it.tail()"
   ]
  },
  {
   "cell_type": "code",
   "execution_count": 19,
   "metadata": {},
   "outputs": [],
   "source": [
    "# Create sequences and target variable shifted by one day for next-day prediction\n",
    "def create_sequences(data, seq_length):\n",
    "    X, y = [], []\n",
    "    for i in range(len(data) - seq_length):\n",
    "        X.append(data[i:i + seq_length])\n",
    "        y.append(data[i + seq_length, 0])  # Predicting 'Close' price\n",
    "    return np.array(X), np.array(y)\n",
    "\n",
    "X, y = create_sequences(scaled_data, seq_length)"
   ]
  },
  {
   "cell_type": "markdown",
   "metadata": {},
   "source": [
    "##### 3. Data Splitting:"
   ]
  },
  {
   "cell_type": "code",
   "execution_count": 7,
   "metadata": {},
   "outputs": [],
   "source": [
    "# Split data into training and validation sets\n",
    "X_train, X_val, y_train, y_val = train_test_split(X, y, test_size=0.2, shuffle=False)"
   ]
  },
  {
   "cell_type": "markdown",
   "metadata": {},
   "source": [
    "##### 4. Model Implementation: "
   ]
  },
  {
   "cell_type": "code",
   "execution_count": 8,
   "metadata": {},
   "outputs": [],
   "source": [
    "# Hyperparameter Tuning\n",
    "class LSTMHyperModel(kt.HyperModel):\n",
    "    def build(self, hp):\n",
    "        model = Sequential()\n",
    "        model.add(LSTM(units=hp.Int('units', min_value=32, max_value=128, step=16),\n",
    "                       return_sequences=True, input_shape=(X_train.shape[1], X_train.shape[2])))\n",
    "        model.add(Dropout(rate=hp.Float('dropout', min_value=0.1, max_value=0.5, step=0.1)))\n",
    "        \n",
    "        model.add(LSTM(units=hp.Int('units', min_value=32, max_value=128, step=16), return_sequences=True))\n",
    "        model.add(Dropout(rate=hp.Float('dropout', min_value=0.1, max_value=0.5, step=0.1)))\n",
    "        \n",
    "        model.add(LSTM(units=hp.Int('units', min_value=32, max_value=128, step=16)))\n",
    "        model.add(Dropout(rate=hp.Float('dropout', min_value=0.1, max_value=0.5, step=0.1)))\n",
    "        \n",
    "        model.add(Dense(1))\n",
    "\n",
    "        learning_rate = hp.Choice('learning_rate', values=[1e-2, 1e-3, 1e-4])\n",
    "        optimizer = Adam(learning_rate=learning_rate)\n",
    "        \n",
    "        model.compile(optimizer=optimizer, loss='mean_squared_error')\n",
    "        return model"
   ]
  },
  {
   "cell_type": "code",
   "execution_count": 9,
   "metadata": {},
   "outputs": [
    {
     "name": "stdout",
     "output_type": "stream",
     "text": [
      "Reloading Tuner from my_dir\\Nifty_IT_LSTM\\tuner0.json\n"
     ]
    }
   ],
   "source": [
    "# Initialize the tuner with Bayesian optimization\n",
    "tuner = kt.BayesianOptimization(\n",
    "    LSTMHyperModel(),\n",
    "    objective='val_loss',\n",
    "    max_trials=10,\n",
    "    executions_per_trial=2,\n",
    "    directory='my_dir',\n",
    "    project_name='Nifty_IT_LSTM'\n",
    ")"
   ]
  },
  {
   "cell_type": "code",
   "execution_count": 10,
   "metadata": {},
   "outputs": [],
   "source": [
    "# Early stopping to prevent overfitting\n",
    "early_stopping = EarlyStopping(monitor='val_loss', patience=5, restore_best_weights=True)"
   ]
  },
  {
   "cell_type": "code",
   "execution_count": 11,
   "metadata": {},
   "outputs": [],
   "source": [
    "# Start the search\n",
    "tuner.search(X_train, y_train, epochs=100, validation_data=(X_val, y_val), callbacks=[early_stopping], batch_size=32)"
   ]
  },
  {
   "cell_type": "code",
   "execution_count": 12,
   "metadata": {},
   "outputs": [
    {
     "name": "stdout",
     "output_type": "stream",
     "text": [
      "Best Hyperparameters:\n",
      "Units: 128\n",
      "Dropout Rate: 0.5\n",
      "Learning Rate: 0.01\n"
     ]
    }
   ],
   "source": [
    "# Retrieve the best model and hyperparameters\n",
    "best_model = tuner.get_best_models(num_models=1)[0]\n",
    "best_hyperparameters = tuner.get_best_hyperparameters(num_trials=1)[0]\n",
    "\n",
    "print(\"Best Hyperparameters:\")\n",
    "print(f\"Units: {best_hyperparameters.get('units')}\")\n",
    "print(f\"Dropout Rate: {best_hyperparameters.get('dropout')}\")\n",
    "print(f\"Learning Rate: {best_hyperparameters.get('learning_rate')}\")"
   ]
  },
  {
   "cell_type": "code",
   "execution_count": 13,
   "metadata": {},
   "outputs": [
    {
     "name": "stdout",
     "output_type": "stream",
     "text": [
      "Epoch 1/50\n",
      "82/82 [==============================] - 12s 103ms/step - loss: 14952639.0000 - val_loss: 14352462.0000\n",
      "Epoch 2/50\n",
      "82/82 [==============================] - 8s 98ms/step - loss: 12516973.0000 - val_loss: 4582454.0000\n",
      "Epoch 3/50\n",
      "82/82 [==============================] - 8s 94ms/step - loss: 3658050.7500 - val_loss: 3006721.0000\n",
      "Epoch 4/50\n",
      "82/82 [==============================] - 8s 96ms/step - loss: 3040834.7500 - val_loss: 2889078.5000\n",
      "Epoch 5/50\n",
      "82/82 [==============================] - 8s 96ms/step - loss: 1685600.7500 - val_loss: 1298209.8750\n",
      "Epoch 6/50\n",
      "82/82 [==============================] - 8s 96ms/step - loss: 880878.0000 - val_loss: 375488.9375\n",
      "Epoch 7/50\n",
      "82/82 [==============================] - 8s 96ms/step - loss: 292565.7812 - val_loss: 219379.9844\n",
      "Epoch 8/50\n",
      "82/82 [==============================] - 8s 94ms/step - loss: 224509.3281 - val_loss: 218762.3281\n",
      "Epoch 9/50\n",
      "82/82 [==============================] - 8s 94ms/step - loss: 219236.8906 - val_loss: 192184.2344\n",
      "Epoch 10/50\n",
      "82/82 [==============================] - 8s 94ms/step - loss: 204707.2344 - val_loss: 191613.6719\n",
      "Epoch 11/50\n",
      "82/82 [==============================] - 8s 94ms/step - loss: 190914.9531 - val_loss: 166884.3281\n",
      "Epoch 12/50\n",
      "82/82 [==============================] - 8s 96ms/step - loss: 177789.0938 - val_loss: 166380.2344\n",
      "Epoch 13/50\n",
      "82/82 [==============================] - 8s 95ms/step - loss: 175687.5781 - val_loss: 165861.2344\n",
      "Epoch 14/50\n",
      "82/82 [==============================] - 8s 96ms/step - loss: 145209.3750 - val_loss: 122372.7031\n",
      "Epoch 15/50\n",
      "82/82 [==============================] - 8s 96ms/step - loss: 132634.4531 - val_loss: 122008.1016\n",
      "Epoch 16/50\n",
      "82/82 [==============================] - 8s 99ms/step - loss: 131796.4375 - val_loss: 121629.7656\n",
      "Epoch 17/50\n",
      "82/82 [==============================] - 8s 98ms/step - loss: 113955.7500 - val_loss: 85019.9453\n",
      "Epoch 18/50\n",
      "82/82 [==============================] - 8s 97ms/step - loss: 92732.1719 - val_loss: 84777.7344\n",
      "Epoch 19/50\n",
      "82/82 [==============================] - 8s 97ms/step - loss: 91044.3047 - val_loss: 84529.7734\n",
      "Epoch 20/50\n",
      "82/82 [==============================] - 8s 97ms/step - loss: 86959.3359 - val_loss: 68685.6328\n",
      "Epoch 21/50\n",
      "82/82 [==============================] - 8s 98ms/step - loss: 58816.9219 - val_loss: 42157.5898\n",
      "Epoch 22/50\n",
      "82/82 [==============================] - 8s 96ms/step - loss: 47018.8242 - val_loss: 42054.9062\n",
      "Epoch 23/50\n",
      "82/82 [==============================] - 8s 97ms/step - loss: 46209.2422 - val_loss: 41949.4336\n",
      "Epoch 24/50\n",
      "82/82 [==============================] - 8s 96ms/step - loss: 45932.2461 - val_loss: 41841.1953\n",
      "Epoch 25/50\n",
      "82/82 [==============================] - 8s 96ms/step - loss: 46763.7539 - val_loss: 41726.0625\n",
      "Epoch 26/50\n",
      "82/82 [==============================] - 8s 96ms/step - loss: 46777.1016 - val_loss: 41605.2969\n",
      "Epoch 27/50\n",
      "82/82 [==============================] - 8s 98ms/step - loss: 41817.5430 - val_loss: 30887.4531\n",
      "Epoch 28/50\n",
      "82/82 [==============================] - 8s 97ms/step - loss: 35041.5352 - val_loss: 30803.1582\n",
      "Epoch 29/50\n",
      "82/82 [==============================] - 8s 96ms/step - loss: 35429.7773 - val_loss: 30714.3535\n",
      "Epoch 30/50\n",
      "82/82 [==============================] - 8s 97ms/step - loss: 34738.4180 - val_loss: 30622.8242\n",
      "Epoch 31/50\n",
      "82/82 [==============================] - 8s 96ms/step - loss: 34339.9961 - val_loss: 30529.2910\n",
      "Epoch 32/50\n",
      "82/82 [==============================] - 8s 96ms/step - loss: 34656.4297 - val_loss: 30430.9004\n",
      "Epoch 33/50\n",
      "82/82 [==============================] - 8s 96ms/step - loss: 33686.1875 - val_loss: 30331.6367\n",
      "Epoch 34/50\n",
      "82/82 [==============================] - 8s 97ms/step - loss: 34161.1562 - val_loss: 30226.9707\n",
      "Epoch 35/50\n",
      "82/82 [==============================] - 8s 96ms/step - loss: 34339.0938 - val_loss: 30115.9082\n",
      "Epoch 36/50\n",
      "82/82 [==============================] - 8s 97ms/step - loss: 35185.6445 - val_loss: 29999.2129\n",
      "Epoch 37/50\n",
      "82/82 [==============================] - 8s 98ms/step - loss: 33956.6641 - val_loss: 29880.9316\n",
      "Epoch 38/50\n",
      "82/82 [==============================] - 8s 98ms/step - loss: 32850.0938 - val_loss: 29761.4316\n",
      "Epoch 39/50\n",
      "82/82 [==============================] - 8s 97ms/step - loss: 32753.9277 - val_loss: 29638.4023\n",
      "Epoch 40/50\n",
      "82/82 [==============================] - 8s 95ms/step - loss: 33493.9297 - val_loss: 29507.0723\n",
      "Epoch 41/50\n",
      "82/82 [==============================] - 8s 93ms/step - loss: 33384.2383 - val_loss: 29370.1094\n",
      "Epoch 42/50\n",
      "82/82 [==============================] - 8s 94ms/step - loss: 32759.4922 - val_loss: 29229.9629\n",
      "Epoch 43/50\n",
      "82/82 [==============================] - 8s 95ms/step - loss: 29778.7383 - val_loss: 20594.1699\n",
      "Epoch 44/50\n",
      "82/82 [==============================] - 8s 93ms/step - loss: 23699.3066 - val_loss: 20501.8223\n",
      "Epoch 45/50\n",
      "82/82 [==============================] - 8s 92ms/step - loss: 23291.2949 - val_loss: 20407.5234\n",
      "Epoch 46/50\n",
      "82/82 [==============================] - 8s 95ms/step - loss: 21174.4805 - val_loss: 13386.3447\n",
      "Epoch 47/50\n",
      "82/82 [==============================] - 8s 97ms/step - loss: 15843.6074 - val_loss: 13329.3311\n",
      "Epoch 48/50\n",
      "82/82 [==============================] - 8s 97ms/step - loss: 15660.6328 - val_loss: 13271.3965\n",
      "Epoch 49/50\n",
      "82/82 [==============================] - 8s 93ms/step - loss: 15366.4229 - val_loss: 13211.5820\n",
      "Epoch 50/50\n",
      "82/82 [==============================] - 8s 94ms/step - loss: 15197.1855 - val_loss: 13150.1797\n"
     ]
    }
   ],
   "source": [
    "# Retrain the best model on the full training data\n",
    "history = best_model.fit(X_train, y_train, epochs=200, validation_data=(X_val, y_val), callbacks=[early_stopping], batch_size=32)"
   ]
  },
  {
   "cell_type": "markdown",
   "metadata": {},
   "source": [
    "##### 5. Model Evaluation"
   ]
  },
  {
   "cell_type": "code",
   "execution_count": 14,
   "metadata": {},
   "outputs": [
    {
     "name": "stdout",
     "output_type": "stream",
     "text": [
      "21/21 [==============================] - 1s 25ms/step\n",
      "Validation RMSE: 114.67424775004326\n"
     ]
    }
   ],
   "source": [
    "y_val_pred = best_model.predict(X_val)\n",
    "rmse = np.sqrt(mean_squared_error(y_val, y_val_pred))\n",
    "print(f'Validation RMSE: {rmse}')"
   ]
  },
  {
   "cell_type": "code",
   "execution_count": 15,
   "metadata": {},
   "outputs": [
    {
     "data": {
      "image/png": "[encoded data removed]",
      "text/plain": [
       "<Figure size 1400x700 with 1 Axes>"
      ]
     },
     "metadata": {},
     "output_type": "display_data"
    }
   ],
   "source": [
    "# Plotting actual vs predicted prices\n",
    "plt.figure(figsize=(14, 7))\n",
    "plt.plot(y_val, color='blue', label='Actual Nifty IT Closing Price')\n",
    "plt.plot(y_val_pred, color='red', label='Predicted Nifty IT Closing Price')\n",
    "plt.title('Nifty IT Closing Price Prediction')\n",
    "plt.xlabel('Time')\n",
    "plt.ylabel('Nifty IT Closing Price')\n",
    "plt.legend()\n",
    "plt.show()"
   ]
  }
 ],
 "metadata": {
  "kernelspec": {
   "display_name": "deeptrend",
   "language": "python",
   "name": "python3"
  },
  "language_info": {
   "codemirror_mode": {
    "name": "ipython",
    "version": 3
   },
   "file_extension": ".py",
   "mimetype": "text/x-python",
   "name": "python",
   "nbconvert_exporter": "python",
   "pygments_lexer": "ipython3",
   "version": "3.11.10"
  }
 },
 "nbformat": 4,
 "nbformat_minor": 2
}
