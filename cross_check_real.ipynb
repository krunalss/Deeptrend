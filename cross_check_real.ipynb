{
 "cells": [
  {
   "cell_type": "code",
   "execution_count": null,
   "metadata": {
    "vscode": {
     "languageId": "plaintext"
    }
   },
   "outputs": [],
   "source": [
    "model_type = 'LSTM'  # Set to 'LSTM' for LSTM or 'GRU' for GRU\n",
    "nifty_it = yf.download('^CNXIT', start='2010-01-01', end='2024-11-10', interval='1d')\n",
    "nifty_it = nifty_it[['Close']].fillna(method='ffill')\n",
    "\n",
    "nifty_it.tail()"
   ]
  }
 ],
 "metadata": {
  "language_info": {
   "name": "python"
  }
 },
 "nbformat": 4,
 "nbformat_minor": 2
}
